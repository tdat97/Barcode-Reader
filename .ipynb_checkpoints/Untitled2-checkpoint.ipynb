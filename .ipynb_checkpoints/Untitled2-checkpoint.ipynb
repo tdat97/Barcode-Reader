{
 "cells": [
  {
   "cell_type": "code",
   "execution_count": 1,
   "id": "a6c09979-47c3-4af2-8f7e-dad39be01d44",
   "metadata": {},
   "outputs": [
    {
     "ename": "PyStError",
     "evalue": "There is no available device.",
     "output_type": "error",
     "traceback": [
      "\u001b[1;31m---------------------------------------------------------------------------\u001b[0m",
      "\u001b[1;31mPyStError\u001b[0m                                 Traceback (most recent call last)",
      "Input \u001b[1;32mIn [1]\u001b[0m, in \u001b[0;36m<cell line: 5>\u001b[1;34m()\u001b[0m\n\u001b[0;32m      3\u001b[0m st\u001b[38;5;241m.\u001b[39minitialize()\n\u001b[0;32m      4\u001b[0m st_system \u001b[38;5;241m=\u001b[39m st\u001b[38;5;241m.\u001b[39mcreate_system()\n\u001b[1;32m----> 5\u001b[0m st_device \u001b[38;5;241m=\u001b[39m \u001b[43mst_system\u001b[49m\u001b[38;5;241;43m.\u001b[39;49m\u001b[43mcreate_first_device\u001b[49m\u001b[43m(\u001b[49m\u001b[43m)\u001b[49m\n\u001b[0;32m      6\u001b[0m set_configure()\n\u001b[0;32m      7\u001b[0m \u001b[38;5;28mprint\u001b[39m(\u001b[38;5;124mf\u001b[39m\u001b[38;5;124m\"\u001b[39m\u001b[38;5;124mDevice:\u001b[39m\u001b[38;5;132;01m{\u001b[39;00mst_device\u001b[38;5;241m.\u001b[39minfo\u001b[38;5;241m.\u001b[39mdisplay_name\u001b[38;5;132;01m}\u001b[39;00m\u001b[38;5;124m\"\u001b[39m)\n",
      "File \u001b[1;32mStApi/IStSystem.pyx:312\u001b[0m, in \u001b[0;36mstapipy.PyStSystem.create_first_device\u001b[1;34m()\u001b[0m\n",
      "File \u001b[1;32mStApi/IStSystem.pyx:324\u001b[0m, in \u001b[0;36mstapipy.PyStSystem.create_first_device\u001b[1;34m()\u001b[0m\n",
      "File \u001b[1;32mStApi/IStDevice.pyx:368\u001b[0m, in \u001b[0;36mstapipy.PyStDevice._create_device\u001b[1;34m()\u001b[0m\n",
      "File \u001b[1;32mutil/pyst_error.pyx:14\u001b[0m, in \u001b[0;36mstapipy.pyst_raise_error\u001b[1;34m()\u001b[0m\n",
      "\u001b[1;31mPyStError\u001b[0m: There is no available device."
     ]
    }
   ],
   "source": [
    "import stapipy as st\n",
    "\n",
    "st.initialize()\n",
    "st_system = st.create_system()\n",
    "st_device = st_system.create_first_device()\n",
    "set_configure()\n",
    "print(f\"Device:{st_device.info.display_name}\")\n",
    "\n",
    "st_datastream = st_device.create_datastream()\n",
    "st_datastream.start_acquisition()"
   ]
  },
  {
   "cell_type": "code",
   "execution_count": null,
   "id": "69fd1ba8-9fc8-4885-abbd-bd73f8c3c244",
   "metadata": {},
   "outputs": [],
   "source": []
  },
  {
   "cell_type": "code",
   "execution_count": null,
   "id": "96ee38de-69ad-41a4-991a-040a29f38222",
   "metadata": {},
   "outputs": [],
   "source": []
  },
  {
   "cell_type": "code",
   "execution_count": null,
   "id": "74fcc4e4-080d-4665-bee0-16f0a24af9b4",
   "metadata": {},
   "outputs": [],
   "source": []
  },
  {
   "cell_type": "code",
   "execution_count": null,
   "id": "da844ffa-07a7-49ac-a0dc-ad66242e30c2",
   "metadata": {},
   "outputs": [],
   "source": []
  },
  {
   "cell_type": "code",
   "execution_count": 1,
   "id": "27245d30-1e63-4252-807c-6201e0c815c7",
   "metadata": {},
   "outputs": [
    {
     "data": {
      "text/plain": [
       "b''"
      ]
     },
     "execution_count": 1,
     "metadata": {},
     "output_type": "execute_result"
    }
   ],
   "source": [
    "import serial\n",
    "import time\n",
    "\n",
    "ss = serial.Serial(\"COM5\", 9600, timeout=0, bytesize=serial.EIGHTBITS, \n",
    "                                      stopbits=serial.STOPBITS_ONE, parity=serial.PARITY_ODD)\n",
    "\n",
    "ss.read_all()\n"
   ]
  },
  {
   "cell_type": "code",
   "execution_count": 4,
   "id": "fc1a345c-9176-41cf-8b17-d3aa67ad1dd0",
   "metadata": {},
   "outputs": [
    {
     "data": {
      "text/plain": [
       "0"
      ]
     },
     "execution_count": 4,
     "metadata": {},
     "output_type": "execute_result"
    }
   ],
   "source": [
    "from collections import defaultdict\n",
    "\n",
    "aa = defaultdict(int)\n",
    "sum(aa.values())"
   ]
  }
 ],
 "metadata": {
  "kernelspec": {
   "display_name": "Python 3 (ipykernel)",
   "language": "python",
   "name": "python3"
  },
  "language_info": {
   "codemirror_mode": {
    "name": "ipython",
    "version": 3
   },
   "file_extension": ".py",
   "mimetype": "text/x-python",
   "name": "python",
   "nbconvert_exporter": "python",
   "pygments_lexer": "ipython3",
   "version": "3.8.10"
  }
 },
 "nbformat": 4,
 "nbformat_minor": 5
}
