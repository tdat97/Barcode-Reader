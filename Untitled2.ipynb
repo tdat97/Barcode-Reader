{
 "cells": [
  {
   "cell_type": "code",
   "execution_count": 1,
   "id": "a6c09979-47c3-4af2-8f7e-dad39be01d44",
   "metadata": {},
   "outputs": [
    {
     "ename": "PyStError",
     "evalue": "There is no available device.",
     "output_type": "error",
     "traceback": [
      "\u001b[1;31m---------------------------------------------------------------------------\u001b[0m",
      "\u001b[1;31mPyStError\u001b[0m                                 Traceback (most recent call last)",
      "Input \u001b[1;32mIn [1]\u001b[0m, in \u001b[0;36m<cell line: 5>\u001b[1;34m()\u001b[0m\n\u001b[0;32m      3\u001b[0m st\u001b[38;5;241m.\u001b[39minitialize()\n\u001b[0;32m      4\u001b[0m st_system \u001b[38;5;241m=\u001b[39m st\u001b[38;5;241m.\u001b[39mcreate_system()\n\u001b[1;32m----> 5\u001b[0m st_device \u001b[38;5;241m=\u001b[39m \u001b[43mst_system\u001b[49m\u001b[38;5;241;43m.\u001b[39;49m\u001b[43mcreate_first_device\u001b[49m\u001b[43m(\u001b[49m\u001b[43m)\u001b[49m\n\u001b[0;32m      6\u001b[0m set_configure()\n\u001b[0;32m      7\u001b[0m \u001b[38;5;28mprint\u001b[39m(\u001b[38;5;124mf\u001b[39m\u001b[38;5;124m\"\u001b[39m\u001b[38;5;124mDevice:\u001b[39m\u001b[38;5;132;01m{\u001b[39;00mst_device\u001b[38;5;241m.\u001b[39minfo\u001b[38;5;241m.\u001b[39mdisplay_name\u001b[38;5;132;01m}\u001b[39;00m\u001b[38;5;124m\"\u001b[39m)\n",
      "File \u001b[1;32mStApi/IStSystem.pyx:312\u001b[0m, in \u001b[0;36mstapipy.PyStSystem.create_first_device\u001b[1;34m()\u001b[0m\n",
      "File \u001b[1;32mStApi/IStSystem.pyx:324\u001b[0m, in \u001b[0;36mstapipy.PyStSystem.create_first_device\u001b[1;34m()\u001b[0m\n",
      "File \u001b[1;32mStApi/IStDevice.pyx:368\u001b[0m, in \u001b[0;36mstapipy.PyStDevice._create_device\u001b[1;34m()\u001b[0m\n",
      "File \u001b[1;32mutil/pyst_error.pyx:14\u001b[0m, in \u001b[0;36mstapipy.pyst_raise_error\u001b[1;34m()\u001b[0m\n",
      "\u001b[1;31mPyStError\u001b[0m: There is no available device."
     ]
    }
   ],
   "source": [
    "import stapipy as st\n",
    "\n",
    "st.initialize()\n",
    "st_system = st.create_system()\n",
    "st_device = st_system.create_first_device()\n",
    "set_configure()\n",
    "print(f\"Device:{st_device.info.display_name}\")\n",
    "\n",
    "st_datastream = st_device.create_datastream()\n",
    "st_datastream.start_acquisition()"
   ]
  },
  {
   "cell_type": "code",
   "execution_count": null,
   "id": "69fd1ba8-9fc8-4885-abbd-bd73f8c3c244",
   "metadata": {},
   "outputs": [],
   "source": []
  },
  {
   "cell_type": "code",
   "execution_count": null,
   "id": "96ee38de-69ad-41a4-991a-040a29f38222",
   "metadata": {},
   "outputs": [],
   "source": []
  },
  {
   "cell_type": "code",
   "execution_count": null,
   "id": "74fcc4e4-080d-4665-bee0-16f0a24af9b4",
   "metadata": {},
   "outputs": [],
   "source": []
  },
  {
   "cell_type": "code",
   "execution_count": null,
   "id": "da844ffa-07a7-49ac-a0dc-ad66242e30c2",
   "metadata": {},
   "outputs": [],
   "source": []
  },
  {
   "cell_type": "code",
   "execution_count": 1,
   "id": "27245d30-1e63-4252-807c-6201e0c815c7",
   "metadata": {},
   "outputs": [
    {
     "data": {
      "text/plain": [
       "b''"
      ]
     },
     "execution_count": 1,
     "metadata": {},
     "output_type": "execute_result"
    }
   ],
   "source": [
    "import serial\n",
    "import time\n",
    "\n",
    "ss = serial.Serial(\"COM5\", 9600, timeout=0, bytesize=serial.EIGHTBITS, \n",
    "                                      stopbits=serial.STOPBITS_ONE, parity=serial.PARITY_ODD)\n",
    "\n",
    "ss.read_all()\n"
   ]
  },
  {
   "cell_type": "code",
   "execution_count": null,
   "id": "6011586a-29b6-45ed-9582-879840a7ff5c",
   "metadata": {},
   "outputs": [],
   "source": []
  },
  {
   "cell_type": "code",
   "execution_count": null,
   "id": "ab6086aa-5685-4f09-af14-2979f951a9ac",
   "metadata": {},
   "outputs": [],
   "source": []
  },
  {
   "cell_type": "code",
   "execution_count": 3,
   "id": "afef5fd7-87e4-4888-9081-dab2bad39e4d",
   "metadata": {},
   "outputs": [],
   "source": [
    "import tkinter as tk\n",
    "\n",
    "root = tk.Tk()\n",
    "aa = tk.Listbox(root)\n",
    "aa.bind()"
   ]
  },
  {
   "cell_type": "code",
   "execution_count": null,
   "id": "04c75893-14b4-407f-844c-cf53f6d640c0",
   "metadata": {},
   "outputs": [],
   "source": []
  },
  {
   "cell_type": "code",
   "execution_count": null,
   "id": "ed57d4a4-fccc-48dd-a69f-8b357ae38d71",
   "metadata": {},
   "outputs": [],
   "source": []
  },
  {
   "cell_type": "code",
   "execution_count": null,
   "id": "ebeab77c-b25a-426c-b48f-061233547f21",
   "metadata": {},
   "outputs": [],
   "source": [
    "import os\n",
    "path = os.path.realpath('your path here')\n",
    "os.startfile(path)"
   ]
  },
  {
   "cell_type": "code",
   "execution_count": null,
   "id": "a649ff54-66be-4a4e-804d-5b83fe3f7625",
   "metadata": {},
   "outputs": [],
   "source": []
  },
  {
   "cell_type": "code",
   "execution_count": null,
   "id": "76908235-c666-487a-ac35-b3deeb79bbee",
   "metadata": {},
   "outputs": [],
   "source": []
  },
  {
   "cell_type": "code",
   "execution_count": null,
   "id": "07da4453-5369-473a-a0d7-1a6d646ddd34",
   "metadata": {},
   "outputs": [],
   "source": []
  },
  {
   "cell_type": "code",
   "execution_count": null,
   "id": "0ba30e0c-01d7-463e-88db-31bda4c58e41",
   "metadata": {},
   "outputs": [],
   "source": []
  },
  {
   "cell_type": "code",
   "execution_count": 2,
   "id": "003add70-b077-4514-9498-34b397775929",
   "metadata": {},
   "outputs": [],
   "source": [
    "import pymysql\n",
    "import json\n",
    "\n",
    "DB_INFO_PATH = \"./temp/db.json\"\n",
    "with open(DB_INFO_PATH, 'r', encoding='utf-8') as f:\n",
    "        info_dic = json.load(f)\n",
    "        \n",
    "con = pymysql.connect(**info_dic, charset='utf8', autocommit=True, cursorclass=pymysql.cursors.Cursor)\n",
    "\n",
    "cur = con.cursor()"
   ]
  },
  {
   "cell_type": "code",
   "execution_count": 59,
   "id": "aa885f38-9a75-4ebd-a880-66fa1f67328c",
   "metadata": {},
   "outputs": [],
   "source": [
    "con.close()"
   ]
  },
  {
   "cell_type": "code",
   "execution_count": 3,
   "id": "a8c7aaf6-7164-4ef8-8ca5-4c51a9b6eb18",
   "metadata": {},
   "outputs": [
    {
     "name": "stdout",
     "output_type": "stream",
     "text": [
      "((1, None, 'Not_Found', 0, 0),)\n"
     ]
    }
   ],
   "source": [
    "sql = \"SELECT * FROM Product;\"\n",
    "cur.execute(sql)\n",
    "rows = cur.fetchall()\n",
    "print(rows)"
   ]
  },
  {
   "cell_type": "code",
   "execution_count": 8,
   "id": "dbd9efba-2f9a-4f79-8db9-b2b6d72fb8ba",
   "metadata": {},
   "outputs": [
    {
     "data": {
      "text/plain": [
       "1"
      ]
     },
     "execution_count": 8,
     "metadata": {},
     "output_type": "execute_result"
    }
   ],
   "source": [
    "sql = \"INSERT INTO status(name, value) VALUES ('Power2', 1);\"\n",
    "cur.execute(sql)"
   ]
  },
  {
   "cell_type": "code",
   "execution_count": 58,
   "id": "997d3181-c184-4bb4-910d-1798470a56e1",
   "metadata": {},
   "outputs": [
    {
     "name": "stdout",
     "output_type": "stream",
     "text": [
      "[{'Tables_in_myproduct': 'image_stack'}, {'Tables_in_myproduct': 'product'}, {'Tables_in_myproduct': 'summary_cnt'}]\n"
     ]
    }
   ],
   "source": [
    "sql = \"show tables;\"\n",
    "cur.execute(sql)\n",
    "rows = cur.fetchall()\n",
    "print(rows)"
   ]
  },
  {
   "cell_type": "code",
   "execution_count": 55,
   "id": "50a2103e-a7ef-40ef-bc53-7ca758d2102f",
   "metadata": {},
   "outputs": [
    {
     "data": {
      "text/plain": [
       "'123\\n124'"
      ]
     },
     "execution_count": 55,
     "metadata": {},
     "output_type": "execute_result"
    }
   ],
   "source": [
    "aa = 123\n",
    "\n",
    "f\"\"\"{aa}\n",
    "{aa+1}\"\"\""
   ]
  },
  {
   "cell_type": "code",
   "execution_count": null,
   "id": "313628b4-7de1-428f-a298-e2fc7c34b957",
   "metadata": {},
   "outputs": [],
   "source": []
  },
  {
   "cell_type": "code",
   "execution_count": 10,
   "id": "269e5993-0412-40db-a030-954ccc8c2583",
   "metadata": {},
   "outputs": [
    {
     "data": {
      "text/plain": [
       "array([6, 7])"
      ]
     },
     "execution_count": 10,
     "metadata": {},
     "output_type": "execute_result"
    }
   ],
   "source": [
    "import numpy as np\n",
    "\n",
    "\n",
    "aa = [4,5,6,7,8]\n",
    "\n",
    "np.take(aa, [2,3])"
   ]
  }
 ],
 "metadata": {
  "kernelspec": {
   "display_name": "Python 3 (ipykernel)",
   "language": "python",
   "name": "python3"
  },
  "language_info": {
   "codemirror_mode": {
    "name": "ipython",
    "version": 3
   },
   "file_extension": ".py",
   "mimetype": "text/x-python",
   "name": "python",
   "nbconvert_exporter": "python",
   "pygments_lexer": "ipython3",
   "version": "3.8.10"
  }
 },
 "nbformat": 4,
 "nbformat_minor": 5
}
