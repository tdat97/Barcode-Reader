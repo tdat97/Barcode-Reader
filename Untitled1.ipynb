{
 "cells": [
  {
   "cell_type": "code",
   "execution_count": 593,
   "id": "a277403c-86ad-418d-b9fa-5b04d516d35b",
   "metadata": {},
   "outputs": [
    {
     "name": "stdout",
     "output_type": "stream",
     "text": [
      "(8, 8)\n"
     ]
    }
   ],
   "source": [
    "import cv2\n",
    "\n",
    "img_path = \"bar00.jpg\"\n",
    "img_bgr = cv2.imread(img_path)\n",
    "img_bgr = cv2.copyMakeBorder(img_bgr, 50, 50, 50, 50, cv2.BORDER_CONSTANT, value=(255,255,255))\n",
    "img_bgr = im_rotate(img_bgr, 10)\n",
    "img_gray = cv2.cvtColor(img_bgr, cv2.COLOR_BGR2GRAY)\n",
    "(_, thresh_black) = cv2.threshold(img_gray, 100, 255, cv2.THRESH_BINARY_INV)\n",
    "# thresh_black = cv2.GaussianBlur(thresh_black, (0, 0), 1)\n",
    "\n",
    "h, w = img_bgr.shape[:2]\n",
    "kernel_size = h*w // 80000\n",
    "\n",
    "######################################\n",
    "# img_sobel_x = cv2.Sobel(thresh_black, cv2.CV_64F, 1, 0, ksize=1)\n",
    "# img_sobel_y = cv2.Sobel(thresh_black, cv2.CV_64F, 0, 1, ksize=1)\n",
    "# img_sobel_x = cv2.convertScaleAbs(img_sobel_x)\n",
    "# img_sobel_y = cv2.convertScaleAbs(img_sobel_y)\n",
    "# img_sobel = cv2.addWeighted(img_sobel_x, 1.2, img_sobel_y, 1.2, 0)\n",
    "img_sobel = cv2.Canny(thresh_black, 50, 1500, apertureSize = 5, L2gradient = True)\n",
    "                             \n",
    "kernel = cv2.getStructuringElement(cv2.MORPH_ELLIPSE, (kernel_size, kernel_size))\n",
    "print(kernel.shape)\n",
    "# kernel = get_cycle_kernel(kernel_size)\n",
    "morph_sobel = cv2.morphologyEx(img_sobel, cv2.MORPH_CLOSE, kernel)\n",
    "morph_sobel = cv2.morphologyEx(morph_sobel, cv2.MORPH_OPEN, kernel)\n",
    "####################################\n",
    "# img_sobel_x = cv2.Sobel(img_gray, cv2.CV_64F, 1, 0, ksize=1)\n",
    "# img_sobel_y = cv2.Sobel(img_gray, cv2.CV_64F, 0, 1, ksize=1)\n",
    "# img_sobel_x = cv2.convertScaleAbs(img_sobel_x)\n",
    "# img_sobel_y = cv2.convertScaleAbs(img_sobel_y)\n",
    "# img_sobel = cv2.addWeighted(img_sobel_x, 2.5, img_sobel_y, 2.5, 0)\n",
    "img_sobel2 = cv2.Canny(img_gray, 50, 1500, apertureSize = 5, L2gradient = True)\n",
    "# img_sobel = cv2.GaussianBlur(img_sobel, (0, 0), 1.5)##\n",
    "                             \n",
    "# kernel = cv2.getStructuringElement(cv2.MORPH_ELLIPSE, (kernel_size, kernel_size))\n",
    "# kernel = get_cycle_kernel(kernel_size)\n",
    "morph_sobel2 = cv2.morphologyEx(img_sobel2, cv2.MORPH_CLOSE, kernel)\n",
    "morph_sobel2 = cv2.morphologyEx(morph_sobel2, cv2.MORPH_OPEN, kernel)\n",
    "    \n",
    "(_, moso_thresh) = cv2.threshold(morph_sobel2, 140, 255, cv2.THRESH_BINARY)\n",
    "####################################\n",
    "\n",
    "bit_and = cv2.bitwise_and(moso_thresh, morph_sobel)\n",
    "\n",
    "####################################\n",
    "contours, _ = cv2.findContours(bit_and, cv2.RETR_EXTERNAL, cv2.CHAIN_APPROX_SIMPLE)\n",
    "bit_and_cnt = np.zeros_like(bit_and)\n",
    "bit_and_cnt = cv2.drawContours(bit_and_cnt, contours, -1, 255, 1)\n",
    "####################################\n",
    "h, w = bit_and_cnt.shape[:2]\n",
    "img_area = h*w\n",
    "for cnt in contours:\n",
    "    cnt_area = cv2.contourArea(cnt)\n",
    "    if cnt_area < 0.005 * img_area: continue\n",
    "    min_rect = cv2.minAreaRect(cnt)\n",
    "    poly_box = cv2.boxPoints(min_rect).astype(np.int32)\n",
    "    min_box_area = cv2.contourArea(poly_box)\n",
    "    if cnt_area < 0.5 * min_box_area: continue\n",
    "    cv2.drawContours(bit_and_cnt, [poly_box], -1, 255, 1)\n",
    "\n",
    "\n",
    "\n",
    "cv2.imshow(\"morph_sobel\", cv2.resize(morph_sobel, dsize=(0,0), fx=0.5, fy=0.5))\n",
    "cv2.imshow(\"img_sobel\", cv2.resize(img_sobel, dsize=(0,0), fx=0.5, fy=0.5))\n",
    "cv2.imshow(\"img_sobel2\", cv2.resize(img_sobel2, dsize=(0,0), fx=0.5, fy=0.5))\n",
    "cv2.imshow(\"morph_sobel2\", cv2.resize(morph_sobel2, dsize=(0,0), fx=0.5, fy=0.5))\n",
    "cv2.imshow(\"moso_thresh\", cv2.resize(moso_thresh, dsize=(0,0), fx=0.5, fy=0.5))\n",
    "cv2.imshow(\"bit_and\", cv2.resize(bit_and, dsize=(0,0), fx=0.5, fy=0.5))\n",
    "# cv2.imshow(\"thresh_black\", thresh_black)\n",
    "# cv2.imshow(\"img_sobel\", img_sobel)\n",
    "# cv2.imshow(\"blurred\", blurred)\n",
    "cv2.imshow(\"bit_and_cnt\", cv2.resize(bit_and_cnt, dsize=(0,0), fx=0.5, fy=0.5))\n",
    "cv2.waitKey(0)\n",
    "cv2.destroyAllWindows()"
   ]
  },
  {
   "cell_type": "code",
   "execution_count": 585,
   "id": "c76f7caa-b9ae-41e5-ad18-3227ab4478fd",
   "metadata": {},
   "outputs": [
    {
     "data": {
      "text/plain": [
       "(9, 9)"
      ]
     },
     "execution_count": 585,
     "metadata": {},
     "output_type": "execute_result"
    }
   ],
   "source": [
    "kernel.shape"
   ]
  },
  {
   "cell_type": "code",
   "execution_count": 572,
   "id": "81c17744-8a3e-4da5-96a0-2b49e9c16700",
   "metadata": {},
   "outputs": [
    {
     "name": "stdout",
     "output_type": "stream",
     "text": [
      "0.050888776779174805\n"
     ]
    }
   ],
   "source": [
    "import time\n",
    "\n",
    "start = time.time()\n",
    "\n",
    "# kernel = cv2.getStructuringElement(cv2.MORPH_ELLIPSE, (kernel_size, kernel_size))\n",
    "kernel = get_cycle_kernel(kernel_size).astype(np.float32)\n",
    "kernel /= np.sum(kernel)\n",
    "filtered = cv2.filter2D(img_sobel, -1, kernel)\n",
    "idx = np.where(filtered>0)\n",
    "mean = np.mean(filtered[idx])\n",
    "\n",
    "# filtered[filtered>=mean] = 255\n",
    "# filtered[filtered<mean] = 0\n",
    "(_, filtered) = cv2.threshold(filtered, mean*0.5, 255, cv2.THRESH_BINARY)\n",
    "# kernel = get_cycle_kernel(kernel_size//3*2)\n",
    "# filtered = cv2.morphologyEx(filtered, cv2.MORPH_CLOSE, kernel)\n",
    "\n",
    "\n",
    "end = time.time()\n",
    "\n",
    "print(end-start)\n",
    "\n",
    "# cv2.imshow(\"img_sobel\", cv2.resize(img_sobel, dsize=(0,0), fx=0.5, fy=0.5))\n",
    "# cv2.imshow(\"img_sobel2\", cv2.resize(img_sobel2, dsize=(0,0), fx=0.5, fy=0.5))\n",
    "cv2.imshow(\"img_sobel\", img_sobel)\n",
    "cv2.imshow(\"img_sobel2\", img_sobel2)\n",
    "cv2.imshow(\"filtered\", filtered)\n",
    "cv2.waitKey(0)\n",
    "cv2.destroyAllWindows()"
   ]
  },
  {
   "cell_type": "code",
   "execution_count": 552,
   "id": "07f9521a-51d3-4a2b-bb26-2dbbd5014d4f",
   "metadata": {},
   "outputs": [],
   "source": [
    "import numpy as np\n",
    "\n",
    "def get_cycle_kernel(ksize):\n",
    "    r = ksize // 2\n",
    "    mini_kernel = np.ones((r,r), dtype=np.uint8)\n",
    "    for i in range(1,r+1):\n",
    "        for j in range(1,r+1):\n",
    "            if np.round(np.sqrt(i*i + j*j)) > np.round(np.sqrt(r*r)):\n",
    "                mini_kernel[i-1,j-1] = 0\n",
    "    \n",
    "    mini_kernel_ = np.rot90(mini_kernel, k=3)\n",
    "    if ksize%2 == 0:\n",
    "        mini_kernel = np.concatenate([mini_kernel_, mini_kernel], axis=1)\n",
    "        mini_kernel_ = np.rot90(mini_kernel, k=2)\n",
    "        mini_kernel = np.concatenate([mini_kernel_, mini_kernel], axis=0)\n",
    "    else:\n",
    "        mini_kernel = np.concatenate([mini_kernel_, np.ones((r,1)), mini_kernel], axis=1)\n",
    "        mini_kernel_ = np.rot90(mini_kernel, k=2)\n",
    "        mini_kernel = np.concatenate([mini_kernel_, np.ones((1,ksize)), mini_kernel], axis=0)\n",
    "        \n",
    "    return mini_kernel"
   ]
  },
  {
   "cell_type": "code",
   "execution_count": 409,
   "id": "f6a2916d-15dc-4932-9dd8-7c99e3b270ba",
   "metadata": {},
   "outputs": [],
   "source": [
    "\n",
    "img_path = \"bar3.jpg\"\n",
    "img_bgr = cv2.imread(img_path)\n",
    "img_bgr = cv2.copyMakeBorder(img_bgr, 50, 50, 50, 50, cv2.BORDER_CONSTANT, value=(255,255,255))\n",
    "img_bgr = im_rotate(img_bgr, 10)\n",
    "img_gray = cv2.cvtColor(img_bgr, cv2.COLOR_BGR2GRAY)\n",
    "(_, thresh_black) = cv2.threshold(img_gray, 100, 255, cv2.THRESH_BINARY_INV)\n",
    "canny = cv2.Canny(thresh_black, 100, 1500, apertureSize = 5, L2gradient = True)\n",
    "# canny = cv2.GaussianBlur(canny, (0, 0), 0.5)##\n",
    "\n",
    "# img_sobel_x = cv2.Sobel(thresh_black, cv2.CV_64F, 1, 0, ksize=1)\n",
    "# img_sobel_y = cv2.Sobel(thresh_black, cv2.CV_64F, 0, 1, ksize=1)\n",
    "# img_sobel_x = cv2.convertScaleAbs(img_sobel_x)\n",
    "# img_sobel_y = cv2.convertScaleAbs(img_sobel_y)\n",
    "# canny = cv2.addWeighted(img_sobel_x, 1.2, img_sobel_y, 1.2, 0)\n",
    "\n",
    "# contours, hierarchy = cv2.findContours(canny, cv2.RETR_LIST, cv2.CHAIN_APPROX_SIMPLE)\n",
    "\n",
    "img_black = np.zeros_like(canny, dtype=np.uint8)\n",
    "# for cnt in contours:\n",
    "#     cv2.drawContours(img_black, [cnt], 0, 255, 1)\n",
    "\n",
    "\n",
    "lines = cv2.HoughLines(canny, 1, np.pi / 180, 150, min_theta=None, max_theta=None)\n",
    "for rho, theta in lines[:,0,:]:\n",
    "    a = np.cos(theta)\n",
    "    b = np.sin(theta)\n",
    "    x0 = a*rho\n",
    "    y0 = b*rho\n",
    "    x1 = int(x0 + 10000*(-b))\n",
    "    y1 = int(y0+10000*(a))\n",
    "    x2 = int(x0 - 10000*(-b))\n",
    "    y2 = int(y0 -10000*(a))\n",
    "\n",
    "    cv2.line(img_black,(x1,y1),(x2,y2),255,1)\n",
    "    \n",
    "# lines = cv2.HoughLinesP(canny, 0.5, np.pi / 180, 50, None, minLineLength=50, maxLineGap=20)\n",
    "# lines = cv2.HoughLinesP(canny, 1, np.pi / 180, 50, None, minLineLength=30, maxLineGap=15)\n",
    "# for x1, y1, x2, y2 in lines[:,0,:]:\n",
    "#     cv2.line(img_black,(x1,y1),(x2,y2),255,1)\n",
    "    \n",
    "\n",
    "# h, w = img_bgr.shape[:2]\n",
    "# kernel_size = h*w // 80000\n",
    "# kernel = cv2.getStructuringElement(cv2.MORPH_ELLIPSE, (3, 3))\n",
    "# morph_sobel = cv2.morphologyEx(img_black, cv2.MORPH_OPEN, kernel)\n",
    "\n",
    "    \n",
    "cv2.imshow(\"canny\", cv2.resize(canny, dsize=(0,0), fx=0.5, fy=0.5))\n",
    "cv2.imshow(\"img_black\", cv2.resize(img_black, dsize=(0,0), fx=0.5, fy=0.5))\n",
    "# cv2.imshow(\"morph_sobel\", cv2.resize(morph_sobel, dsize=(0,0), fx=0.5, fy=0.5))\n",
    "cv2.waitKey(0)\n",
    "cv2.destroyAllWindows()"
   ]
  },
  {
   "cell_type": "code",
   "execution_count": 399,
   "id": "e24c10b3-4ab6-47da-9320-87e1decb1233",
   "metadata": {},
   "outputs": [
    {
     "data": {
      "text/plain": [
       "array([[1]], dtype=uint8)"
      ]
     },
     "execution_count": 399,
     "metadata": {},
     "output_type": "execute_result"
    }
   ],
   "source": [
    "kernel"
   ]
  },
  {
   "cell_type": "code",
   "execution_count": null,
   "id": "cfc58026-3566-405c-8aaf-fb0ae98f5139",
   "metadata": {},
   "outputs": [],
   "source": []
  },
  {
   "cell_type": "code",
   "execution_count": 2,
   "id": "f2330ec5-816d-44a8-a735-c7ba3a1af356",
   "metadata": {},
   "outputs": [],
   "source": [
    "def im_rotate(img, degree):\n",
    "    h, w = img.shape[:2]\n",
    "    centerRotatePT = int(w / 2), int(h / 2)\n",
    "    new_h, new_w = h, w\n",
    "    rotatefigure = cv2.getRotationMatrix2D(centerRotatePT, degree, 1)\n",
    "    result = cv2.warpAffine(img, rotatefigure, (new_w, new_h), )\n",
    "    return result"
   ]
  },
  {
   "cell_type": "code",
   "execution_count": null,
   "id": "b64cb8ac-8e70-4358-8a51-05cb75213457",
   "metadata": {},
   "outputs": [],
   "source": []
  },
  {
   "cell_type": "code",
   "execution_count": null,
   "id": "463b933e-ab1f-405d-9856-046d222f04a2",
   "metadata": {},
   "outputs": [],
   "source": [
    "\n",
    "# blurred = cv2.bilateralFilter(img_sobel, -1, 5, 10)"
   ]
  },
  {
   "cell_type": "code",
   "execution_count": null,
   "id": "44b9cd78-71fa-485f-a1bd-79ffbd3e8b9e",
   "metadata": {},
   "outputs": [],
   "source": []
  },
  {
   "cell_type": "code",
   "execution_count": null,
   "id": "1b27d07c-61d0-42dc-a7f0-0172ec9c3a3c",
   "metadata": {},
   "outputs": [],
   "source": []
  },
  {
   "cell_type": "code",
   "execution_count": null,
   "id": "9a08251f-c63b-4973-953b-1cbabd2045be",
   "metadata": {},
   "outputs": [],
   "source": []
  },
  {
   "cell_type": "code",
   "execution_count": null,
   "id": "67f8a212-015d-4584-9688-fba4ceb0003b",
   "metadata": {},
   "outputs": [],
   "source": []
  },
  {
   "cell_type": "code",
   "execution_count": null,
   "id": "b7d99fd0-18dc-41bb-89a8-af4e2d0a8518",
   "metadata": {},
   "outputs": [],
   "source": []
  },
  {
   "cell_type": "code",
   "execution_count": null,
   "id": "274d173f-c211-416a-aa1a-22f63d9ed1dc",
   "metadata": {},
   "outputs": [],
   "source": []
  },
  {
   "cell_type": "code",
   "execution_count": 596,
   "id": "255e4f1b-7aff-4877-8069-47818d29b731",
   "metadata": {},
   "outputs": [
    {
     "ename": "AttributeError",
     "evalue": "module 'cv2' has no attribute 'barcode_BarcodeDetector'",
     "output_type": "error",
     "traceback": [
      "\u001b[1;31m---------------------------------------------------------------------------\u001b[0m",
      "\u001b[1;31mAttributeError\u001b[0m                            Traceback (most recent call last)",
      "Input \u001b[1;32mIn [596]\u001b[0m, in \u001b[0;36m<cell line: 1>\u001b[1;34m()\u001b[0m\n\u001b[1;32m----> 1\u001b[0m \u001b[43mcv2\u001b[49m\u001b[38;5;241;43m.\u001b[39;49m\u001b[43mbarcode_BarcodeDetector\u001b[49m()\n",
      "\u001b[1;31mAttributeError\u001b[0m: module 'cv2' has no attribute 'barcode_BarcodeDetector'"
     ]
    }
   ],
   "source": [
    "cv2.barcode_BarcodeDetector()"
   ]
  },
  {
   "cell_type": "code",
   "execution_count": null,
   "id": "ebd1262d-ad10-45f7-bbc6-91dc83a0cd66",
   "metadata": {},
   "outputs": [],
   "source": []
  },
  {
   "cell_type": "code",
   "execution_count": null,
   "id": "23927e81-ea73-4781-85fe-bcf7883706b3",
   "metadata": {},
   "outputs": [],
   "source": []
  },
  {
   "cell_type": "code",
   "execution_count": 771,
   "id": "dfa47374-08be-4982-bc15-eb2d070dc70e",
   "metadata": {},
   "outputs": [
    {
     "name": "stdout",
     "output_type": "stream",
     "text": [
      "0.06482577323913574\n",
      "[Decoded(data=b'567054455984', type='CODE128', rect=Rect(left=881, top=311, width=513, height=834), polygon=[Point(x=881, y=311), Point(x=987, y=1145), Point(x=1394, y=1128), Point(x=1393, y=1088), Point(x=1392, y=1058)], quality=23, orientation='UP'), Decoded(data=b'3D47', type='CODE128', rect=Rect(left=120, top=115, width=1, height=12), polygon=[Point(x=120, y=115), Point(x=121, y=127)], quality=2, orientation='UP')]\n",
      "Rect(left=881, top=311, width=513, height=834)\n",
      "b'567054455984'\n",
      "CODE128\n",
      "Rect(left=120, top=115, width=1, height=12)\n",
      "b'3D47'\n",
      "CODE128\n"
     ]
    }
   ],
   "source": [
    "from pyzbar import pyzbar\n",
    "from pyzbar.pyzbar import ZBarSymbol\n",
    "\n",
    "img = cv2.imread(\"./temp/scratch.png\")\n",
    "img = cv2.imread(\"./temp/bar0.jpg\")\n",
    "# img = cv2.copyMakeBorder(img, 300, 300, 300, 300, cv2.BORDER_CONSTANT, value=(255,255,255))\n",
    "# img = im_rotate(img, 45)\n",
    "img = cv2.GaussianBlur(img, (0, 0), 2.7)\n",
    "\n",
    "# cv2.imwrite(\"test.jpg\", img)\n",
    "sharpen_kernel = np.array([[0,-1,0], \n",
    "                           [-1,5,-1], \n",
    "                           [0,-1,0]])\n",
    "img = cv2.filter2D(img, -1, sharpen_kernel)\n",
    "\n",
    "\n",
    "\n",
    "start = time.time()\n",
    "detect = pyzbar.decode(img)\n",
    "# detect = pyzbar.decode(img, symbols=[ZBarSymbol.CODE93])\n",
    "# detect = pyzbar.decode(img, symbols=[ZBarSymbol.CODE128])\n",
    "# detect = pyzbar.decode(img, symbols=[ZBarSymbol.QRCODE])\n",
    "# detect = pyzbar.decode(img, symbols=[ZBarSymbol.EAN13])\n",
    "end = time.time()\n",
    "print(end-start)\n",
    "\n",
    "print(detect)\n",
    "for barcode in detect:\n",
    "    (x, y, w, h) = barcode.rect\n",
    "    cv2.rectangle(img, (x, y), (x + w, y + h), (255, 0, 0), 5)\n",
    "    text = barcode.data.decode(\"utf-8\")\n",
    "    cv2.putText(img, text, (x, y-10), cv2.FONT_HERSHEY_SIMPLEX, 1, (100,255,0), 2)\n",
    "    print(barcode.rect)\n",
    "    print(barcode.data)\n",
    "    print(barcode.type)\n",
    "    \n",
    "cv2.imshow(\"test\", img)\n",
    "cv2.waitKey(0)\n",
    "cv2.destroyAllWindows()"
   ]
  },
  {
   "cell_type": "code",
   "execution_count": null,
   "id": "20e6b9b7-9e14-48e0-aefb-44e334299cad",
   "metadata": {},
   "outputs": [],
   "source": []
  },
  {
   "cell_type": "code",
   "execution_count": 642,
   "id": "94f03f56-3760-46f7-a8a5-76c7dc5e8d43",
   "metadata": {},
   "outputs": [
    {
     "name": "stdout",
     "output_type": "stream",
     "text": [
      "파이썬을 이용한 비트코인 자동매매 27000\n"
     ]
    }
   ],
   "source": [
    "from collections import namedtuple\n",
    "\n",
    "Book = namedtuple('Book', ['title', 'price'])\n",
    "mybook3 = Book(\"파이썬을 이용한 비트코인 자동매매\", 27000)\n",
    "print(mybook3.title, mybook3.price)"
   ]
  },
  {
   "cell_type": "code",
   "execution_count": null,
   "id": "2e1d4c7a-0442-451c-af76-f0616d3dabbb",
   "metadata": {},
   "outputs": [],
   "source": []
  },
  {
   "cell_type": "code",
   "execution_count": null,
   "id": "db33a8da-c630-4e9c-86fd-d0963dfd2afe",
   "metadata": {},
   "outputs": [],
   "source": []
  },
  {
   "cell_type": "code",
   "execution_count": null,
   "id": "fe90366e-b7ed-4f5b-a53d-cd5caef34c0a",
   "metadata": {},
   "outputs": [],
   "source": []
  },
  {
   "cell_type": "code",
   "execution_count": null,
   "id": "662dc7c3-6261-4932-8977-8b09188041af",
   "metadata": {},
   "outputs": [],
   "source": []
  },
  {
   "cell_type": "code",
   "execution_count": null,
   "id": "eddeb79a-b038-4d07-b259-366223c4c465",
   "metadata": {},
   "outputs": [],
   "source": []
  },
  {
   "cell_type": "code",
   "execution_count": 674,
   "id": "a566a277-3e88-4710-ac5b-03bfb79eee31",
   "metadata": {},
   "outputs": [],
   "source": [
    "import cv2\n",
    "import numpy as np\n",
    "\n",
    "\n",
    "img = cv2.imread(\"bar5.jpg\")\n",
    "gray = cv2.cvtColor(img, cv2.COLOR_BGR2GRAY)\n",
    "canny = cv2.Canny(img, 100, 1500, apertureSize = 5, L2gradient = True)\n",
    "contours, _ = cv2.findContours(canny, cv2.RETR_EXTERNAL, cv2.CHAIN_APPROX_SIMPLE)\n",
    "cv2.drawContours(gray, contours, -1, 255, 1)\n",
    "\n",
    "\n",
    "cv2.imshow(\"gray\", gray)\n",
    "cv2.waitKey(0)\n",
    "cv2.destroyAllWindows()"
   ]
  },
  {
   "cell_type": "code",
   "execution_count": 671,
   "id": "f0d3282c-6929-4212-a8f4-40adddef3632",
   "metadata": {},
   "outputs": [
    {
     "data": {
      "text/plain": [
       "(14, 1, 2)"
      ]
     },
     "execution_count": 671,
     "metadata": {},
     "output_type": "execute_result"
    }
   ],
   "source": [
    "contours[0].shape"
   ]
  },
  {
   "cell_type": "code",
   "execution_count": 881,
   "id": "88c03b52-59fe-48b3-a937-97c2dff2cb8d",
   "metadata": {},
   "outputs": [
    {
     "data": {
      "text/plain": [
       "5"
      ]
     },
     "execution_count": 881,
     "metadata": {},
     "output_type": "execute_result"
    }
   ],
   "source": [
    "mser.getDelta()"
   ]
  },
  {
   "cell_type": "code",
   "execution_count": 181,
   "id": "7064f554-6d54-470a-b8de-5605d3c8436d",
   "metadata": {},
   "outputs": [
    {
     "name": "stdout",
     "output_type": "stream",
     "text": [
      "1932\n",
      "0.15658116340637207\n",
      "0.29421281814575195\n"
     ]
    }
   ],
   "source": [
    "import cv2\n",
    "import numpy as np\n",
    "import time\n",
    "\n",
    "mser = cv2.MSER_create()\n",
    "mser.setMinArea(400)\n",
    "mser.setMaxArea(3000)\n",
    "\n",
    "img = cv2.imread(\"./temp/bar3.jpg\")\n",
    "img = cv2.GaussianBlur(img, (0, 0), 1)\n",
    "img = cv2.copyMakeBorder(img, 300, 300, 300, 300, cv2.BORDER_CONSTANT, value=(255,255,255))\n",
    "img = im_rotate(img, 45)\n",
    "\n",
    "start = time.time()\n",
    "gray = cv2.cvtColor(img, cv2.COLOR_BGR2GRAY)\n",
    "\n",
    "vis = img.copy()\n",
    "\n",
    "regions, _ = mser.detectRegions(gray)\n",
    "print(len(regions))\n",
    "# kps = mser.detect(gray)\n",
    "\n",
    "end = time.time()\n",
    "print(end-start)\n",
    "black = np.zeros_like(img)\n",
    "# black = img.copy()\n",
    "# cv2.drawKeypoints(black,kps,black)\n",
    "# for r in regions:\n",
    "#     r = r.reshape(-1,1,2)\n",
    "#     cv2.drawContours(black, [r], 0, (0,0,255), 1)\n",
    "# aa = [r.reshape(-1,1,2) for r in regions]\n",
    "# cv2.drawContours(black, aa, -1, (0,0,255), 1)\n",
    "\n",
    "# hulls = [cv2.convexHull(p.reshape(-1, 1, 2)) for p in regions]\n",
    "rectes = [cv2.minAreaRect(p) for p in regions]\n",
    "rectes = filter(lambda x:max(x[1])>4*min(x[1]), rectes)\n",
    "boxes = [cv2.boxPoints(rect).astype(np.int32) for rect in rectes]\n",
    "\n",
    "end = time.time()\n",
    "print(end-start)\n",
    "# cv2.polylines(vis, hulls, 1, (0, 255, 0))\n",
    "for box in boxes:\n",
    "# for hull in hulls:\n",
    "    color = tuple(map(int, np.random.randint(0,256, 3)))\n",
    "    # cv2.drawContours(vis, [hull], -1, color, 1)\n",
    "    cv2.drawContours(vis, [box], -1, (0,0,255), 1)\n",
    "    # cv2.imshow('img', cv2.resize(vis, dsize=(0,0), fx=0.5, fy=0.5))\n",
    "    # cv2.waitKey(1)\n",
    "# cv2.drawContours(vis, boxes, -1, (0,0,255), 1)\n",
    "\n",
    "# cv2.imshow('img', vis)\n",
    "# cv2.imshow('black', black)\n",
    "cv2.imshow('img', cv2.resize(vis, dsize=(0,0), fx=0.5, fy=0.5))\n",
    "cv2.imshow('black', cv2.resize(black, dsize=(0,0), fx=0.5, fy=0.5))\n",
    "cv2.waitKey(0)\n",
    "cv2.destroyAllWindows()"
   ]
  },
  {
   "cell_type": "code",
   "execution_count": 919,
   "id": "644b620b-9166-4483-ba59-297f2f13582c",
   "metadata": {},
   "outputs": [
    {
     "data": {
      "text/plain": [
       "array([[ 321.97494507, 1035.46948242,   41.83367538,  177.7986908 ],\n",
       "       [ 322.25738525, 1035.65466309,   41.86034012,  178.62055969],\n",
       "       [ 322.68835449, 1035.73242188,   41.88656616,  179.36364746],\n",
       "       ...,\n",
       "       [1644.32922363,  964.18041992,   43.45184326,  130.93896484],\n",
       "       [1644.25439453,  964.25830078,   43.55587387,  130.93359375],\n",
       "       [1644.34802246,  964.1605835 ,   43.39997482,  130.94143677]])"
      ]
     },
     "execution_count": 919,
     "metadata": {},
     "output_type": "execute_result"
    }
   ],
   "source": [
    "X"
   ]
  },
  {
   "cell_type": "code",
   "execution_count": null,
   "id": "6ee7a02d-cb55-4aa8-aa00-22a62e4ff5d5",
   "metadata": {},
   "outputs": [],
   "source": []
  },
  {
   "cell_type": "code",
   "execution_count": 177,
   "id": "f00ec589-a36c-419f-973a-d5515b72e460",
   "metadata": {},
   "outputs": [],
   "source": [
    "def apply_clahe(img): ###########\n",
    "    lab = cv2.cvtColor(img, cv2.COLOR_BGR2Lab)\n",
    "    clahe = cv2.createCLAHE(clipLimit=0.5, tileGridSize=(3,3))\n",
    "    lab[..., 0] = clahe.apply(lab[..., 0])\n",
    "    img = cv2.cvtColor(lab, cv2.COLOR_Lab2BGR)\n",
    "    return img"
   ]
  },
  {
   "cell_type": "code",
   "execution_count": 171,
   "id": "fb4b4b45-608c-4afb-b3c2-e6c568f6311a",
   "metadata": {},
   "outputs": [],
   "source": [
    "cv2.imshow('img', img)\n",
    "cv2.waitKey(0)\n",
    "cv2.destroyAllWindows()"
   ]
  },
  {
   "cell_type": "code",
   "execution_count": 190,
   "id": "78a7436b-0d92-4d31-92bb-27cd86ea2344",
   "metadata": {},
   "outputs": [
    {
     "data": {
      "text/plain": [
       "(1200, 1600, 3)"
      ]
     },
     "execution_count": 190,
     "metadata": {},
     "output_type": "execute_result"
    }
   ],
   "source": [
    "img.shape"
   ]
  },
  {
   "cell_type": "code",
   "execution_count": 277,
   "id": "4afdbb01-523f-4f70-a7e7-4e39b9b7b37f",
   "metadata": {},
   "outputs": [
    {
     "name": "stdout",
     "output_type": "stream",
     "text": [
      "7240\n",
      "0.1545865535736084\n",
      "0.41887974739074707\n",
      "[-1  0  1  2] [384 322 351 611]\n",
      "0.4338397979736328\n"
     ]
    }
   ],
   "source": [
    "import cv2\n",
    "import numpy as np\n",
    "import time\n",
    "from sklearn.cluster import DBSCAN\n",
    "\n",
    "\n",
    "\n",
    "img = cv2.imread(\"./temp/codes_1200.jpg\")\n",
    "img = cv2.imread(\"./temp/codes_2048.jpg\")\n",
    "img = cv2.imread(\"./temp/bar0.jpg\")\n",
    "# img = cv2.imread(\"./temp/barcode.png\")\n",
    "# img = cv2.imread(\"./temp/scratch2.png\")\n",
    "# img = cv2.copyMakeBorder(img, 2300, 2300, 2300, 2300, cv2.BORDER_CONSTANT, value=(255,255,255))\n",
    "# img = cv2.copyMakeBorder(img, 300, 300, 300, 300, cv2.BORDER_CONSTANT, value=(255,255,255))\n",
    "# img = cv2.GaussianBlur(img, (0, 0), 1)\n",
    "\n",
    "\n",
    "mser = cv2.MSER_create()\n",
    "mser.setMinArea(min(img.shape[:2])//20)\n",
    "mser.setMaxArea(min(img.shape[:2])*3)\n",
    "\n",
    "\n",
    "# img = im_rotate(img, 45)\n",
    "img_h, img_w = img.shape[:2]\n",
    "##########################################\n",
    "# sharpen_kernel = np.array([[0,-1,0], [-1,5,-1], [0,-1,0]])\n",
    "# img = cv2.filter2D(img, -1, sharpen_kernel)\n",
    "\n",
    "# img = apply_clahe(img)\n",
    "# img = apply_clahe(img)\n",
    "# img = apply_clahe(img)\n",
    "# img = apply_clahe(img)\n",
    "# img = apply_clahe(img)\n",
    "###########################################\n",
    "start = time.time()\n",
    "gray = cv2.cvtColor(img, cv2.COLOR_BGR2GRAY)\n",
    "\n",
    "vis = img.copy()\n",
    "\n",
    "regions, _ = mser.detectRegions(gray)\n",
    "print(len(regions))\n",
    "\n",
    "end = time.time()\n",
    "print(end-start)\n",
    "###########################################\n",
    "rectes = [cv2.minAreaRect(p) for p in regions]\n",
    "rectes = list(filter(lambda x:max(x[1])>4*min(x[1]), rectes))\n",
    "center_x = [rect[0][0] for rect in rectes]\n",
    "center_y = [rect[0][1] for rect in rectes]\n",
    "theta = [rect[2] for rect in rectes]\n",
    "height = [max(rect[1]) for rect in rectes]\n",
    "# X = np.stack([center_x, center_y, theta, height], axis=1)\n",
    "# X[:, [1,3]] /= img_h\n",
    "# X[:, 0] /= img_w\n",
    "# X[:, 2] /= 90\n",
    "X = np.stack([center_x, center_y, height], axis=1)\n",
    "X[:, [1,2]] /= img_h\n",
    "X[:, 0] /= img_w\n",
    "\n",
    "boxes = np.array([cv2.boxPoints(rect).astype(np.int32) for rect in rectes])\n",
    "\n",
    "end = time.time()\n",
    "print(end-start)\n",
    "###########################################\n",
    "dbscan = DBSCAN(eps=0.04, min_samples=30).fit(X)\n",
    "cluster_idx = dbscan.labels_\n",
    "kind_idx, kind_counts = np.unique(cluster_idx, return_counts=True)\n",
    "print(kind_idx, kind_counts)\n",
    "###########################################\n",
    "big_boxes = []\n",
    "for kind in kind_idx:\n",
    "    if kind == -1: continue\n",
    "    kind_boxes = boxes[np.where(cluster_idx==kind)]\n",
    "    points = kind_boxes.reshape(-1, 2)\n",
    "    big_rect = list(cv2.minAreaRect(points))\n",
    "    big_rect[1] = np.array(big_rect[1]) * 1.2\n",
    "    \n",
    "    big_box = cv2.boxPoints(big_rect).astype(np.int32)\n",
    "    big_boxes.append(big_box)\n",
    "    \n",
    "end = time.time()\n",
    "print(end-start)\n",
    "###########################################\n",
    "for box in boxes:\n",
    "    color = tuple(map(int, np.random.randint(0,256, 3)))\n",
    "    cv2.drawContours(vis, [box], -1, color, 1)\n",
    "    \n",
    "for box in big_boxes:\n",
    "    color = tuple(map(int, np.random.randint(0,256, 3)))\n",
    "    cv2.drawContours(vis, [box], -1, color, 7)\n",
    "\n",
    "    \n",
    "# cv2.imshow('img', vis)\n",
    "# cv2.imshow('black', black)\n",
    "# cv2.imshow('img', cv2.resize(vis, dsize=(0,0), fx=0.2, fy=0.2))\n",
    "cv2.imshow('img', cv2.resize(vis, dsize=(0,0), fx=0.5, fy=0.5))\n",
    "# cv2.imshow('black', cv2.resize(black, dsize=(0,0), fx=0.5, fy=0.5))\n",
    "cv2.waitKey(0)\n",
    "cv2.destroyAllWindows()"
   ]
  },
  {
   "cell_type": "code",
   "execution_count": 202,
   "id": "744cdc13-23d5-45b3-9f38-8542127c852b",
   "metadata": {},
   "outputs": [
    {
     "name": "stdout",
     "output_type": "stream",
     "text": [
      "b'ecrvtbyn' CODE128\n",
      "b'qawsedrf' CODE128\n",
      "b'azsxdcfv' CODE128\n",
      "b'yhujikol' CODE128\n",
      "fail\n",
      "0.11668753623962402\n"
     ]
    }
   ],
   "source": [
    "import numpy as np\n",
    "import cv2\n",
    "from pyzbar import pyzbar\n",
    "import time\n",
    "\n",
    "def get_poly_box_wh(poly_box): # (4,2)\n",
    "    lt, rt, rb, lb = poly_box\n",
    "    w = int((np.linalg.norm(lt - rt) + np.linalg.norm(lb - rb)) // 2)\n",
    "    h = int((np.linalg.norm(lt - lb) + np.linalg.norm(rt - rb)) // 2)\n",
    "    return w, h\n",
    "\n",
    "def crop_obj_in_bg(bg_img, poly, w, h):\n",
    "    poly = poly.astype(np.float32)\n",
    "    pos = np.float32([[0,0], [w,0], [w,h], [0,h]])\n",
    "    M = cv2.getPerspectiveTransform(poly, pos)\n",
    "    obj_img = cv2.warpPerspective(bg_img, M, (w, h))\n",
    "    return obj_img, M\n",
    "\n",
    "start = time.time()\n",
    "crops = []\n",
    "for i, poly_box in enumerate(big_boxes):\n",
    "    w,h = get_poly_box_wh(poly_box)\n",
    "    crop, _ = crop_obj_in_bg(img, poly_box, w, h)\n",
    "    \n",
    "    detect = pyzbar.decode(crop)\n",
    "    cv2.imshow(f'crop_{i}', crop)\n",
    "    cv2.waitKey(1)\n",
    "    if not detect: print(\"fail\"); continue\n",
    "    detect = detect[0]\n",
    "    print(detect.data, detect.type)\n",
    "    crops.append(crop)\n",
    "end = time.time()\n",
    "print(end-start)\n",
    "    \n",
    "cv2.waitKey(0)\n",
    "cv2.destroyAllWindows()"
   ]
  },
  {
   "cell_type": "code",
   "execution_count": null,
   "id": "7b490910-b9af-4017-badb-6aa23baaf308",
   "metadata": {},
   "outputs": [],
   "source": []
  },
  {
   "cell_type": "code",
   "execution_count": 131,
   "id": "5320d529-0898-4b4c-9ca6-bcfa80ac9218",
   "metadata": {},
   "outputs": [
    {
     "name": "stdout",
     "output_type": "stream",
     "text": [
      "Fail\n"
     ]
    }
   ],
   "source": [
    "img = cv2.imread(\"./temp/qr3.png\")\n",
    "img = cv2.imread(\"./test.jpg\")\n",
    "img = cv2.copyMakeBorder(img, 300, 300, 300, 300, cv2.BORDER_CONSTANT, value=(255,255,255))\n",
    "\n",
    "for i in range(1):\n",
    "    if i%10 != 0: continue\n",
    "    rotate_img = im_rotate(img, i)\n",
    "    detect = pyzbar.decode(rotate_img)\n",
    "    cv2.imshow(\"rotate_img\", rotate_img)\n",
    "    cv2.waitKey(1)\n",
    "    if not detect: print(\"Fail\"); break\n",
    "else:\n",
    "    print(\"Success\")\n",
    "    \n",
    "cv2.waitKey(0)\n",
    "cv2.destroyAllWindows()"
   ]
  },
  {
   "cell_type": "code",
   "execution_count": 116,
   "id": "4487d80b-0b46-437a-b33a-ac53dc7ba0b5",
   "metadata": {},
   "outputs": [
    {
     "data": {
      "text/plain": [
       "[Decoded(data=b'Hello :)', type='QRCODE', rect=Rect(left=309, top=309, width=167, height=167), polygon=[Point(x=309, y=451), Point(x=451, y=476), Point(x=476, y=334), Point(x=334, y=309)], quality=1, orientation='UP')]"
      ]
     },
     "execution_count": 116,
     "metadata": {},
     "output_type": "execute_result"
    }
   ],
   "source": [
    "detect"
   ]
  },
  {
   "cell_type": "code",
   "execution_count": null,
   "id": "45b9802c-aab0-45bf-9417-4e926c728cd5",
   "metadata": {},
   "outputs": [],
   "source": [
    "# detect = pyzbar.decode(img, symbols=[ZBarSymbol.QRCODE])"
   ]
  },
  {
   "cell_type": "code",
   "execution_count": 204,
   "id": "9036e387-bebe-42e4-b362-f2551d3d2244",
   "metadata": {},
   "outputs": [],
   "source": [
    "from pyzbar.pyzbar import ZBarSymbol\n",
    "\n",
    "img = cv2.imread(\"./temp/codes_1200.jpg\")\n",
    "# img = cv2.imread(\"./temp/codes_2048.jpg\")\n",
    "img = im_rotate(img, 45)\n",
    "detect = pyzbar.decode(img, symbols=[ZBarSymbol.QRCODE])\n",
    "\n",
    "for det in detect:\n",
    "    poly_box = np.array(det.polygon)\n",
    "    text_loc = np.max(poly_box, axis=0)\n",
    "    text = det.data.decode(\"utf-8\")\n",
    "    cv2.polylines(img, [poly_box], True, (255,0,0))\n",
    "    cv2.putText(img, text, text_loc, cv2.FONT_HERSHEY_SIMPLEX, 1, (0,255,0), 2)\n",
    "    \n",
    "img = cv2.resize(img, dsize=(0,0), fx=0.5, fy=0.5)\n",
    "cv2.imshow(\"test\", img)\n",
    "cv2.waitKey(0)\n",
    "cv2.destroyAllWindows()"
   ]
  },
  {
   "cell_type": "code",
   "execution_count": null,
   "id": "e736efbe-1c1b-4e78-8713-d8041dc2a918",
   "metadata": {},
   "outputs": [],
   "source": []
  },
  {
   "cell_type": "code",
   "execution_count": 209,
   "id": "806b6ec0-e070-44ca-aecb-5f860c5287f6",
   "metadata": {},
   "outputs": [],
   "source": [
    "def foo():\n",
    "    \"\"\"\n",
    "    test 함수입니다.\n",
    "        Args:\n",
    "            a (str): a value\n",
    "            b (int): b value \n",
    "            c (str): c value\n",
    "        Retruns:\n",
    "            None\n",
    "    \"\"\"\n",
    "    return\n",
    "\n",
    "foo()"
   ]
  },
  {
   "cell_type": "code",
   "execution_count": 212,
   "id": "30ce9be9-d02b-4b9c-a161-22809f4b43cf",
   "metadata": {},
   "outputs": [
    {
     "data": {
      "text/plain": [
       "40"
      ]
     },
     "execution_count": 212,
     "metadata": {},
     "output_type": "execute_result"
    }
   ],
   "source": [
    "import logging\n",
    "\n",
    "logging.CRITICAL\n",
    "logging.DEBUG\n",
    "logging.INFO\n",
    "logging.WARNING\n",
    "logging.ERROR\n"
   ]
  },
  {
   "cell_type": "code",
   "execution_count": 217,
   "id": "d97ac66d-82f4-46d7-959e-197d37dbfaa9",
   "metadata": {},
   "outputs": [
    {
     "data": {
      "text/plain": [
       "<function logging.critical(msg, *args, **kwargs)>"
      ]
     },
     "execution_count": 217,
     "metadata": {},
     "output_type": "execute_result"
    }
   ],
   "source": [
    "logging.debug\n",
    "logging.info\n",
    "logging.warning\n",
    "logging.error\n",
    "logging.critical\n"
   ]
  },
  {
   "cell_type": "code",
   "execution_count": null,
   "id": "a0f84c2f-b4b0-46a7-95e3-85c4976855f5",
   "metadata": {},
   "outputs": [],
   "source": []
  },
  {
   "cell_type": "code",
   "execution_count": 2,
   "id": "b9411523-318c-4ccc-9397-889052bfb8a9",
   "metadata": {},
   "outputs": [
    {
     "ename": "NameError",
     "evalue": "name 'port' is not defined",
     "output_type": "error",
     "traceback": [
      "\u001b[1;31m---------------------------------------------------------------------------\u001b[0m",
      "\u001b[1;31mNameError\u001b[0m                                 Traceback (most recent call last)",
      "Input \u001b[1;32mIn [2]\u001b[0m, in \u001b[0;36m<cell line: 2>\u001b[1;34m()\u001b[0m\n\u001b[0;32m      1\u001b[0m \u001b[38;5;28;01mimport\u001b[39;00m \u001b[38;5;21;01mserial\u001b[39;00m\n\u001b[1;32m----> 2\u001b[0m serial\u001b[38;5;241m.\u001b[39mSerial(\u001b[43mport\u001b[49m, \u001b[38;5;241m9600\u001b[39m, timeout\u001b[38;5;241m=\u001b[39m\u001b[38;5;241m0\u001b[39m, bytesize\u001b[38;5;241m=\u001b[39mserial\u001b[38;5;241m.\u001b[39mEIGHTBITS, \n\u001b[0;32m      3\u001b[0m               stopbits\u001b[38;5;241m=\u001b[39mserial\u001b[38;5;241m.\u001b[39mSTOPBITS_ONE, parity\u001b[38;5;241m=\u001b[39mserial\u001b[38;5;241m.\u001b[39mPARITY_ODD)\n",
      "\u001b[1;31mNameError\u001b[0m: name 'port' is not defined"
     ]
    }
   ],
   "source": [
    "import serial\n",
    "serial.Serial(port, 9600, timeout=0, bytesize=serial.EIGHTBITS, \n",
    "              stopbits=serial.STOPBITS_ONE, parity=serial.PARITY_ODD)"
   ]
  },
  {
   "cell_type": "code",
   "execution_count": null,
   "id": "2013183e-48c2-4c25-8c34-fb504a5ccc4e",
   "metadata": {},
   "outputs": [],
   "source": []
  }
 ],
 "metadata": {
  "kernelspec": {
   "display_name": "Python 3 (ipykernel)",
   "language": "python",
   "name": "python3"
  },
  "language_info": {
   "codemirror_mode": {
    "name": "ipython",
    "version": 3
   },
   "file_extension": ".py",
   "mimetype": "text/x-python",
   "name": "python",
   "nbconvert_exporter": "python",
   "pygments_lexer": "ipython3",
   "version": "3.8.10"
  }
 },
 "nbformat": 4,
 "nbformat_minor": 5
}
